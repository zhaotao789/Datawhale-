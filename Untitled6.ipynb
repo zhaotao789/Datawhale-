{
 "cells": [
  {
   "cell_type": "markdown",
   "id": "a52e1ce4",
   "metadata": {},
   "source": [
    "Datawhale 笔记\n",
    "\n",
    "市场博弈价格评估"
   ]
  },
  {
   "cell_type": "code",
   "execution_count": null,
   "id": "83af18ca",
   "metadata": {},
   "outputs": [],
   "source": [
    "import numpy as np\n",
    "import pandas as pd\n",
    "from pathlib import Path\n",
    "from sklearn.linear_model import LinearRegression\n",
    "\n",
    "base_path = Path(r\"D:\\aliyun\\Round_1 data_new\\Round_1 data_new\")  # 确保数据都放在同级的data目录下\n",
    "\n",
    "# 读取市场数据\n",
    "electricity_price = pd.read_csv(base_path / \"electricity price.csv\")\n",
    "# 读取市场主体（各发电机组）数据\n",
    "unit = pd.read_csv(base_path / \"unit.csv\")\n",
    "sample_submit = electricity_price[electricity_price[\"clearing price (CNY/MWh)\"].isna()].drop(columns=\"demand\")\n",
    "sample_submit.to_csv(base_path / \"sample_submit.csv\", index=False)\n",
    "\n",
    "# 将day和time列合并成timestamp列，便于提取时间戳特征\n",
    "electricity_price[\"timestamp\"] = pd.to_datetime(\n",
    "    electricity_price[\"day\"] + \" \" + electricity_price[\"time\"].str.replace(\"24:00:00\", \"00:00\"))\n",
    "\n",
    "# 处理24:00:00的情况，即表示第二天的00:00:00\n",
    "mask = electricity_price['timestamp'].dt.time == pd.Timestamp('00:00:00').time()\n",
    "\n",
    "# 需要将这些行的日期部分加一天\n",
    "electricity_price.loc[mask, 'timestamp'] += pd.Timedelta(days=1)\n",
    "\n",
    "# 设置列的顺序，同时去除day和time列\n",
    "electricity_price = electricity_price[[\"timestamp\", \"demand\", \"clearing price (CNY/MWh)\"]]\n",
    "unit['coal consumption (g coal/KWh)']=unit['coal consumption (g coal/KWh)']*(1-unit['power consumption rate (%)']/100)\n",
    "\n",
    "sorted_unit = unit.sort_values(\"coal consumption (g coal/KWh)\")  # 按照一度电的耗煤量（近似为边际成本）降序排序\n",
    "sorted_unit['used_time']=0\n",
    "# # 预先计算 sorted_unit 的累积和\n",
    "sorted_unit['cumulative_capacity'] = sorted_unit['Capacity（MW）'].cumsum()\n",
    "sorted_unit\n"
   ]
  },
  {
   "cell_type": "code",
   "execution_count": null,
   "id": "ff462f2f",
   "metadata": {},
   "outputs": [],
   "source": [
    "prices = []\n",
    "\n",
    "# 找到最后一个满足总需求的机组报价\n",
    "for demand in electricity_price[\"demand\"]:    \n",
    "    price = sorted_unit[sorted_unit['cumulative_capacity'] >= demand][\"coal consumption (g coal/KWh)\"].iloc[0]    \n",
    "    prices.append(price)\n",
    "    \n",
    "print(len(prices))\n",
    "prices[:5]"
   ]
  },
  {
   "cell_type": "code",
   "execution_count": null,
   "id": "69673951",
   "metadata": {},
   "outputs": [],
   "source": [
    "from sklearn.metrics import mean_squared_error\n",
    "\n",
    "model = LinearRegression()\n",
    "# 55392为训练集的长度\n",
    "train_length = 55392\n",
    "prices = np.array(prices).reshape(-1, 1)\n",
    "X= np.log(prices[:train_length])\n",
    "X1 = np.log(electricity_price[\"demand\"].iloc[:train_length].values.reshape(-1, 1))\n",
    "y =  electricity_price[\"clearing price (CNY/MWh)\"].iloc[:train_length].values.reshape(-1, 1)\n",
    "y=y.flatten()\n",
    "model.fit(X1, y)\n",
    "y_pred = model.predict(X1)\n",
    "y_pred = y_pred.flatten()  # 2维矩阵转为1维\n",
    "\n",
    "mse = mean_squared_error(y_pred, y)\n",
    "print(mse)\n",
    "\n",
    "y_pred4 = model.predict(np.log(electricity_price[\"demand\"].iloc[train_length:].values.reshape(-1, 1)))\n",
    "y_pred4 = y_pred4.flatten()\n",
    "sample_submit[\"clearing price (CNY/MWh)\"] =np.round(y_pred4,4)\n",
    "sample_submit.to_csv(\"submit.csv\", index=False)"
   ]
  }
 ],
 "metadata": {
  "kernelspec": {
   "display_name": "py37",
   "language": "python",
   "name": "py37"
  },
  "language_info": {
   "codemirror_mode": {
    "name": "ipython",
    "version": 3
   },
   "file_extension": ".py",
   "mimetype": "text/x-python",
   "name": "python",
   "nbconvert_exporter": "python",
   "pygments_lexer": "ipython3",
   "version": "3.7.16"
  }
 },
 "nbformat": 4,
 "nbformat_minor": 5
}
